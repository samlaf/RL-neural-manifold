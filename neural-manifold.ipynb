{
 "cells": [
  {
   "cell_type": "code",
   "execution_count": 47,
   "metadata": {},
   "outputs": [],
   "source": [
    "from spinup.utils.logx import restore_tf_graph\n",
    "import tensorflow as tf\n",
    "from os import path as osp\n",
    "from spinup.utils.test_policy import load_policy\n",
    "import numpy as np\n",
    "from sklearn.decomposition import PCA\n",
    "import matplotlib.pyplot as plt"
   ]
  },
  {
   "cell_type": "code",
   "execution_count": 4,
   "metadata": {},
   "outputs": [],
   "source": [
    "path = '/Users/samlaf/programming/spinningup/data/ddpg_reacher/ddpg_reacher_s0'"
   ]
  },
  {
   "cell_type": "code",
   "execution_count": 5,
   "metadata": {},
   "outputs": [
    {
     "name": "stderr",
     "output_type": "stream",
     "text": [
      "W1024 18:55:59.495302 4688852416 module_wrapper.py:139] From /Users/samlaf/programming/RL-neural-manifold/spinup/utils/logx.py:59: The name tf.saved_model.tag_constants.SERVING is deprecated. Please use tf.saved_model.SERVING instead.\n",
      "\n",
      "W1024 18:55:59.506685 4688852416 deprecation.py:323] From /Users/samlaf/programming/RL-neural-manifold/spinup/utils/logx.py:60: load (from tensorflow.python.saved_model.loader_impl) is deprecated and will be removed in a future version.\n",
      "Instructions for updating:\n",
      "This function will only be available through the v1 compatibility library as tf.compat.v1.saved_model.loader.load or tf.compat.v1.saved_model.load. There will be a new function for importing SavedModels in Tensorflow 2.0.\n",
      "W1024 18:56:02.015872 4688852416 module_wrapper.py:139] From /Users/samlaf/programming/RL-neural-manifold/spinup/utils/logx.py:63: The name tf.get_default_graph is deprecated. Please use tf.compat.v1.get_default_graph instead.\n",
      "\n"
     ]
    }
   ],
   "source": [
    "sess = tf.Session()\n",
    "model = restore_tf_graph(sess, osp.join(path, 'simple_save'))"
   ]
  },
  {
   "cell_type": "code",
   "execution_count": 13,
   "metadata": {},
   "outputs": [
    {
     "name": "stdout",
     "output_type": "stream",
     "text": [
      "Using default action op.\n"
     ]
    }
   ],
   "source": [
    "env, _ = load_policy(path)\n",
    "x = model['x']"
   ]
  },
  {
   "cell_type": "code",
   "execution_count": 45,
   "metadata": {},
   "outputs": [],
   "source": [
    "# We gather n activations of the last layer into a buffer\n",
    "n = 100\n",
    "acts = np.zeros((n,32))\n",
    "for i in range(n):\n",
    "    o = env.reset()\n",
    "    last_layer_act = sess.run('main/pi/dense_1/Relu:0', feed_dict={x: o[None,:]})\n",
    "    acts[i] = last_layer_act"
   ]
  },
  {
   "cell_type": "markdown",
   "metadata": {},
   "source": [
    "# Here we get a 5d manifold for 32d layer"
   ]
  },
  {
   "cell_type": "code",
   "execution_count": 52,
   "metadata": {},
   "outputs": [
    {
     "name": "stdout",
     "output_type": "stream",
     "text": [
      "Total explained variance: 0.975127075016689\n"
     ]
    },
    {
     "data": {
      "image/png": "[encoded data removed]",
      "text/plain": [
       "<Figure size 432x288 with 1 Axes>"
      ]
     },
     "metadata": {
      "needs_background": "light"
     },
     "output_type": "display_data"
    }
   ],
   "source": [
    "pca = PCA(n_components=10)\n",
    "pca.fit(acts)\n",
    "plt.plot(pca.explained_variance_ratio_)\n",
    "plt.title(\"Variance explained per component\")\n",
    "print(\"Total explained variance:\", pca.explained_variance_ratio_.sum())"
   ]
  },
  {
   "cell_type": "code",
   "execution_count": 56,
   "metadata": {},
   "outputs": [
    {
     "data": {
      "text/plain": [
       "Text(0.5, 1.0, 'Total variance explained per # of pcs')"
      ]
     },
     "execution_count": 56,
     "metadata": {},
     "output_type": "execute_result"
    },
    {
     "data": {
      "image/png": "[encoded data removed]",
      "text/plain": [
       "<Figure size 432x288 with 1 Axes>"
      ]
     },
     "metadata": {
      "needs_background": "light"
     },
     "output_type": "display_data"
    }
   ],
   "source": [
    "total_var = []\n",
    "for k in range(32):\n",
    "    pca = PCA(n_components=k)\n",
    "    pca.fit(acts)\n",
    "    total_var.append(pca.explained_variance_ratio_.sum())\n",
    "plt.plot(total_var)\n",
    "plt.title(\"Total variance explained per # of pcs\")"
   ]
  },
  {
   "cell_type": "code",
   "execution_count": null,
   "metadata": {},
   "outputs": [],
   "source": []
  }
 ],
 "metadata": {
  "kernelspec": {
   "display_name": "Python 3",
   "language": "python",
   "name": "python3"
  },
  "language_info": {
   "codemirror_mode": {
    "name": "ipython",
    "version": 3
   },
   "file_extension": ".py",
   "mimetype": "text/x-python",
   "name": "python",
   "nbconvert_exporter": "python",
   "pygments_lexer": "ipython3",
   "version": "3.7.3"
  }
 },
 "nbformat": 4,
 "nbformat_minor": 2
}
